{
 "cells": [
  {
   "cell_type": "code",
   "execution_count": 2,
   "metadata": {},
   "outputs": [
    {
     "name": "stdout",
     "output_type": "stream",
     "text": [
      "Walsh code 2 (W2) is: [[0 0 0 0]\n",
      " [0 1 0 1]\n",
      " [0 0 1 1]\n",
      " [0 1 1 0]]\n"
     ]
    }
   ],
   "source": [
    "import numpy as np\n",
    "# If we want to generate walsh code 2 so  power of 2 is 1 \n",
    "# write order of 2 for e.g 2^3 = 8 for walsh 8\\\n",
    "# walsh code 8 => order 3\n",
    "# walsh code 16 => order 4\n",
    "def walsh_code(order):\n",
    "    #basic element(seed) of walsh code generator\n",
    "    W = np.array([0])\n",
    "    for i in range(order):\n",
    "        W = np.tile(W, (2, 2))\n",
    "        half = 1 << i\n",
    "        W[half:, half:] = np.logical_not(W[half:, half:])\n",
    "    return W\n",
    "\n",
    "print(\"Walsh code 2 (W2) is:\",walsh_code(2))\n"
   ]
  },
  {
   "cell_type": "code",
   "execution_count": 3,
   "metadata": {},
   "outputs": [
    {
     "name": "stdout",
     "output_type": "stream",
     "text": [
      "Walsh code is (W16): [[0 0 0 0 0 0 0 0 0 0 0 0 0 0 0 0]\n",
      " [0 1 0 1 0 1 0 1 0 1 0 1 0 1 0 1]\n",
      " [0 0 1 1 0 0 1 1 0 0 1 1 0 0 1 1]\n",
      " [0 1 1 0 0 1 1 0 0 1 1 0 0 1 1 0]\n",
      " [0 0 0 0 1 1 1 1 0 0 0 0 1 1 1 1]\n",
      " [0 1 0 1 1 0 1 0 0 1 0 1 1 0 1 0]\n",
      " [0 0 1 1 1 1 0 0 0 0 1 1 1 1 0 0]\n",
      " [0 1 1 0 1 0 0 1 0 1 1 0 1 0 0 1]\n",
      " [0 0 0 0 0 0 0 0 1 1 1 1 1 1 1 1]\n",
      " [0 1 0 1 0 1 0 1 1 0 1 0 1 0 1 0]\n",
      " [0 0 1 1 0 0 1 1 1 1 0 0 1 1 0 0]\n",
      " [0 1 1 0 0 1 1 0 1 0 0 1 1 0 0 1]\n",
      " [0 0 0 0 1 1 1 1 1 1 1 1 0 0 0 0]\n",
      " [0 1 0 1 1 0 1 0 1 0 1 0 0 1 0 1]\n",
      " [0 0 1 1 1 1 0 0 1 1 0 0 0 0 1 1]\n",
      " [0 1 1 0 1 0 0 1 1 0 0 1 0 1 1 0]]\n"
     ]
    }
   ],
   "source": [
    "print(\"Walsh code is (W4):\",walsh_code(4))"
   ]
  },
  {
   "cell_type": "code",
   "execution_count": null,
   "metadata": {},
   "outputs": [],
   "source": []
  }
 ],
 "metadata": {
  "kernelspec": {
   "display_name": "Python 3",
   "language": "python",
   "name": "python3"
  },
  "language_info": {
   "codemirror_mode": {
    "name": "ipython",
    "version": 3
   },
   "file_extension": ".py",
   "mimetype": "text/x-python",
   "name": "python",
   "nbconvert_exporter": "python",
   "pygments_lexer": "ipython3",
   "version": "3.7.3"
  },
  "latex_envs": {
   "LaTeX_envs_menu_present": true,
   "autoclose": true,
   "autocomplete": true,
   "bibliofile": "biblio.bib",
   "cite_by": "apalike",
   "current_citInitial": 1,
   "eqLabelWithNumbers": true,
   "eqNumInitial": 1,
   "hotkeys": {
    "equation": "Ctrl-E",
    "itemize": "Ctrl-I"
   },
   "labels_anchors": false,
   "latex_user_defs": false,
   "report_style_numbering": false,
   "user_envs_cfg": false
  },
  "toc": {
   "base_numbering": 1,
   "nav_menu": {},
   "number_sections": true,
   "sideBar": true,
   "skip_h1_title": false,
   "title_cell": "Table of Contents",
   "title_sidebar": "Contents",
   "toc_cell": false,
   "toc_position": {},
   "toc_section_display": true,
   "toc_window_display": false
  },
  "varInspector": {
   "cols": {
    "lenName": 16,
    "lenType": 16,
    "lenVar": 40
   },
   "kernels_config": {
    "python": {
     "delete_cmd_postfix": "",
     "delete_cmd_prefix": "del ",
     "library": "var_list.py",
     "varRefreshCmd": "print(var_dic_list())"
    },
    "r": {
     "delete_cmd_postfix": ") ",
     "delete_cmd_prefix": "rm(",
     "library": "var_list.r",
     "varRefreshCmd": "cat(var_dic_list()) "
    }
   },
   "types_to_exclude": [
    "module",
    "function",
    "builtin_function_or_method",
    "instance",
    "_Feature"
   ],
   "window_display": false
  }
 },
 "nbformat": 4,
 "nbformat_minor": 2
}
